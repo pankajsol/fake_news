{
 "cells": [
  {
   "cell_type": "code",
   "execution_count": 1,
   "id": "1fdec963",
   "metadata": {},
   "outputs": [
    {
     "name": "stderr",
     "output_type": "stream",
     "text": [
      "[nltk_data] Downloading package stopwords to\n",
      "[nltk_data]     C:\\Users\\DELL\\AppData\\Roaming\\nltk_data...\n",
      "[nltk_data]   Package stopwords is already up-to-date!\n",
      "[nltk_data] Downloading package wordnet to\n",
      "[nltk_data]     C:\\Users\\DELL\\AppData\\Roaming\\nltk_data...\n",
      "[nltk_data]   Package wordnet is already up-to-date!\n"
     ]
    }
   ],
   "source": [
    "import pandas as pd\n",
    "import re\n",
    "import nltk\n",
    "nltk.download('stopwords')\n",
    "nltk.download('wordnet')\n",
    "from nltk.stem import WordNetLemmatizer\n",
    "from nltk.corpus import stopwords\n",
    "from sklearn.feature_extraction.text import TfidfVectorizer\n",
    "fake = pd.read_csv(\"https://confrecordings.ams3.digitaloceanspaces.com/Fake1.csv\")\n",
    "true = pd.read_csv(\"https://confrecordings.ams3.digitaloceanspaces.com/1_True1.csv\")\n"
   ]
  },
  {
   "cell_type": "code",
   "execution_count": 2,
   "id": "41640aaa",
   "metadata": {},
   "outputs": [
    {
     "name": "stdout",
     "output_type": "stream",
     "text": [
      "(49, 4)\n",
      "(49, 4)\n",
      "                                                text target\n",
      "0  On Friday, it was revealed that former Milwauk...   fake\n",
      "1  Donald Trump is afraid of strong, powerful wom...   fake\n",
      "2  Pope Francis used his annual Christmas Day mes...   fake\n",
      "3  On Wednesday, Donald Trump took a step no prev...   fake\n",
      "4  WASHINGTON (Reuters) - Crucial details of the ...   true\n"
     ]
    }
   ],
   "source": [
    "print(fake.shape)\n",
    "print(true.shape)\n",
    "fake['target'] = 'fake'\n",
    "true['target'] = 'true'\n",
    "\n",
    "data = pd.concat([fake, true]).reset_index(drop = True)\n",
    "from sklearn.utils import shuffle\n",
    "data = shuffle(data)\n",
    "data = data.reset_index(drop=True)\n",
    "data.drop([\"date\"],axis=1,inplace=True)\n",
    "data.drop([\"title\"],axis=1,inplace=True)\n",
    "data.drop([\"subject\"],axis=1,inplace=True)\n",
    "print(data.head())\n",
    "wordnet = WordNetLemmatizer()\n",
    "corpus = []"
   ]
  },
  {
   "cell_type": "code",
   "execution_count": 3,
   "id": "0b84a4b9",
   "metadata": {},
   "outputs": [
    {
     "name": "stdout",
     "output_type": "stream",
     "text": [
      "                                                text target\n",
      "0  friday revealed former milwaukee sheriff david...   fake\n",
      "1  donald trump afraid strong powerful woman horr...   fake\n",
      "2  pope francis used annual christmas day message...   fake\n",
      "3  wednesday donald trump took step previous pres...   fake\n",
      "4  washington reuters crucial detail republican t...   true\n"
     ]
    }
   ],
   "source": [
    "def clean_text(text):\n",
    "    # Cleaning text\n",
    "    review = re.sub('[^a-zA-Z]', ' ', text)\n",
    "    # Formating text\n",
    "    review = review.lower()\n",
    "    review = review.split()\n",
    "    # Lemmatize each word in text\n",
    "    review = [wordnet.lemmatize(word) for word in review if word not in stopwords.words('english')]\n",
    "    review = ' '.join(review)\n",
    "    return review\n",
    "\n",
    "data[\"text\"] = data[\"text\"].apply(clean_text)\n",
    "print(data.head())\n",
    "x = data[\"text\"]\n",
    "y = data['target']\n",
    "\n",
    "# Machine learning\n",
    "from sklearn.model_selection import train_test_split\n",
    "from sklearn.linear_model import LogisticRegression\n",
    "from sklearn.neighbors import KNeighborsClassifier\n",
    "from sklearn import tree\n",
    "from sklearn.ensemble import RandomForestClassifier\n",
    "from sklearn.metrics import accuracy_score\n",
    "from sklearn.metrics import confusion_matrix\n",
    "from sklearn import metrics\n"
   ]
  },
  {
   "cell_type": "code",
   "execution_count": 4,
   "id": "0ba808a8",
   "metadata": {},
   "outputs": [
    {
     "name": "stdout",
     "output_type": "stream",
     "text": [
      "accuracy: 85.0%\n",
      "[[9 0]\n",
      " [3 8]]\n"
     ]
    }
   ],
   "source": [
    "# Divide the dataset into Train and Test\n",
    "X_train,X_test,y_train,y_test = train_test_split(x,y, test_size=0.2, random_state=42)\n",
    "\n",
    "tfidf_v = TfidfVectorizer()\n",
    "X_tfidf = tfidf_v.fit_transform(X_train)\n",
    "X_tfidf.shape\n",
    "x_tfidf = tfidf_v.transform(X_test)\n",
    "x_tfidf.shape\n",
    "\n",
    "\n",
    "classifier1 = LogisticRegression(random_state = 0)\n",
    "classifier1.fit(X_tfidf, y_train)\n",
    "prediction = classifier1.predict(x_tfidf) # Predict on new data \n",
    "print(\"accuracy: {}%\".format(round(accuracy_score(y_test, prediction)*100,2)))\n",
    "cm = metrics.confusion_matrix(y_test, prediction)\n",
    "print(cm)"
   ]
  },
  {
   "cell_type": "code",
   "execution_count": 5,
   "id": "e86d2746",
   "metadata": {},
   "outputs": [
    {
     "name": "stdout",
     "output_type": "stream",
     "text": [
      "accuracy: 100.0%\n",
      "[[ 9  0]\n",
      " [ 0 11]]\n"
     ]
    }
   ],
   "source": [
    "classifier2 = tree.DecisionTreeClassifier(random_state = 0)\n",
    "classifier2.fit(X_tfidf, y_train)\n",
    "prediction = classifier2.predict(x_tfidf) # Predict on new data \n",
    "print(\"accuracy: {}%\".format(round(accuracy_score(y_test, prediction)*100,2)))\n",
    "cm = metrics.confusion_matrix(y_test, prediction)\n",
    "print(cm)\n"
   ]
  },
  {
   "cell_type": "code",
   "execution_count": null,
   "id": "0342b028",
   "metadata": {},
   "outputs": [],
   "source": [
    "classifier3=RandomForestClassifier()\n",
    "classifier3.fit(X_tfidf, y_train)\n",
    "prediction = classifier3.predict(x_tfidf) # Predict on new data \n",
    "print(\"accuracy: {}%\".format(round(accuracy_score(y_test, prediction)*100,2)))\n",
    "cm = metrics.confusion_matrix(y_test, prediction)\n",
    "print(cm)\n",
    "\n",
    "print(\"Train accuracy:\", dt1.score(X_tfidf,y_train))\n",
    "\n",
    "print(\"Test accuracy:\", dt1.score(X_test,y_test))"
   ]
  }
 ],
 "metadata": {
  "kernelspec": {
   "display_name": "Python 3",
   "language": "python",
   "name": "python3"
  },
  "language_info": {
   "codemirror_mode": {
    "name": "ipython",
    "version": 3
   },
   "file_extension": ".py",
   "mimetype": "text/x-python",
   "name": "python",
   "nbconvert_exporter": "python",
   "pygments_lexer": "ipython3",
   "version": "3.8.8"
  }
 },
 "nbformat": 4,
 "nbformat_minor": 5
}
